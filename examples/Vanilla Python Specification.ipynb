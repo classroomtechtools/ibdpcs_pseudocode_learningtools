{
 "cells": [
  {
   "cell_type": "markdown",
   "metadata": {},
   "source": [
    "# Vanilla Python \n",
    "\n"
   ]
  },
  {
   "cell_type": "markdown",
   "metadata": {},
   "source": [
    "## Introduction & Motivation"
   ]
  },
  {
   "cell_type": "markdown",
   "metadata": {},
   "source": [
    "\"Vanilla Python\" is a \"pseudocode\" intended for teachers to use with new or beginner students, who are encountering text-based programming for the first time.\n",
    "\n",
    "In more detail, it is a Python execution context whose language is made more accessible for new programmers to learn some of the basic concepts of computational thinking, algorithms, and data structures. It aims to provide a learning environment to make plain concepts that are often encountered in \"CS 101\" courses.\n",
    "\n",
    "In terms of implementation details, it basically can be thought of a streamlined language that is converted into regular, plain Python, and is then executed. In addition to that, however, it also provides some data structures that assist with teaching concepts such as arrays and streams. Moreover, you can write straight Python right next to Vanilla Python, which allows the student to explore more advanced concepts, or for the teacher to write functions that perform calculations or produce output that is beyond the scope of the lesson (so only understanding the signature or doc string is required).\n",
    "\n",
    "This was heavily inspired by the IB Pseudocode and is almost entirely derived from it, with modifications. The major contribution here is that we can actually practice and execute this \"pseudocode,\" along with regular Python. In addition, how this language works is made plain and specified with sound behaviour and choices made explicit. Furthermore, error checking with the both variants produced, as well as some very minor changes made to the language itself, for convenience reasons.\n",
    "\n",
    "One of the key motivations was to provide my students an execution enviornment for the IB Computer Science pseudocode portion of the course.\n",
    "\n"
   ]
  },
  {
   "cell_type": "markdown",
   "metadata": {},
   "source": [
    "## Description\n",
    "\n",
    "Here Vanilla Python is described with examples. Each cell has examples, with the converted Python code underneath, and the output under that.\n",
    "\n",
    "### Notes:\n",
    "\n",
    "- The `%%transpile` magic found in the cells below is a directive that outputs the resulting \"pure\" python below the cell. This way the resulting Python code that is actually executed is made plain\n",
    "\n",
    "Here is an example that illustrates Vanilla Python and how it works with regular Python:"
   ]
  },
  {
   "cell_type": "code",
   "execution_count": 1,
   "metadata": {},
   "outputs": [
    {
     "name": "stdout",
     "output_type": "stream",
     "text": [
      "  3|  \u001b[36mprint\u001b[39;49;00m(\u001b[33m\"\u001b[39;49;00m\u001b[33mThis is straight Python highlighted with Vanilla Python rules\u001b[39;49;00m\u001b[33m\"\u001b[39;49;00m)\n",
      "  4|  \u001b[36mprint\u001b[39;49;00m(\u001b[33m\"\u001b[39;49;00m\u001b[33mSince the transpilation layer doesn\u001b[39;49;00m\u001b[33m'\u001b[39;49;00m\u001b[33mt change anything (as we can see)\u001b[39;49;00m\u001b[33m\"\u001b[39;49;00m)\n",
      "  5|  \u001b[36mprint\u001b[39;49;00m(\u001b[33m\"\u001b[39;49;00m\u001b[33mIt executes fine.\u001b[39;49;00m\u001b[33m\"\u001b[39;49;00m)\n",
      "  6|  \n",
      "  7|  \u001b[36mprint\u001b[39;49;00m(\u001b[33m\"\u001b[39;49;00m\u001b[33mThis is Vanilla Python. It isn\u001b[39;49;00m\u001b[33m'\u001b[39;49;00m\u001b[33mt too different from Python\u001b[39;49;00m\u001b[33m\"\u001b[39;49;00m)\n",
      "  8|  \u001b[36mprint\u001b[39;49;00m(\u001b[33m\"\u001b[39;49;00m\u001b[33mIn fact, you can write both in the same place\u001b[39;49;00m\u001b[33m\"\u001b[39;49;00m)\n",
      "  9|  \n"
     ]
    },
    {
     "data": {
      "text/plain": [
       "This is straight Python highlighted with Vanilla Python rules\n",
       "Since the transpilation layer doesn't change anything (as we can see)\n",
       "It executes fine.\n",
       "This is Vanilla Python. It isn't too different from Python\n",
       "In fact, you can write both in the same place"
      ]
     },
     "execution_count": 1,
     "metadata": {},
     "output_type": "execute_result"
    }
   ],
   "source": [
    "%%transpile\n",
    "\n",
    "print(\"This is straight Python highlighted with Vanilla Python rules\")\n",
    "print(\"Since the transpilation layer doesn't change anything (as we can see)\")\n",
    "print(\"It executes fine.\")\n",
    "\n",
    "output \"This is Vanilla Python. It isn't too different from Python\"\n",
    "output \"In fact, you can write both in the same place\""
   ]
  },
  {
   "cell_type": "markdown",
   "metadata": {},
   "source": [
    "You can also switch contexts easily. This is an example of a fancy Python function used with Vanilla Python:"
   ]
  },
  {
   "cell_type": "code",
   "execution_count": 2,
   "metadata": {},
   "outputs": [
    {
     "data": {
      "text/plain": [
       "I'm going to switch the highlighting by using the py: comment\n",
       "Hello, Student"
      ]
     },
     "execution_count": 2,
     "metadata": {},
     "output_type": "execute_result"
    }
   ],
   "source": [
    "output \"I'm going to switch the highlighting by using the py: comment\"\n",
    "\n",
    "# py: \n",
    "def python_function(noun=\"World\"):\n",
    "    print(', '.join([\"Hello\", noun]))\n",
    "    \n",
    "# vanilla:\n",
    "NAME=\"Student\"\n",
    "python_function(NAME)"
   ]
  },
  {
   "cell_type": "markdown",
   "metadata": {},
   "source": [
    "## Language Specifications"
   ]
  },
  {
   "cell_type": "markdown",
   "metadata": {},
   "source": [
    "### Comments and Strings\n",
    "\n",
    "Multi-line comments use three `#`s. They get converted into a mulit-line string in Python,\n",
    "consistent with docstrings. Syntax highlighting is essentially off (plaintext)\n",
    "\n",
    "Single-line comments also available with one `#`"
   ]
  },
  {
   "cell_type": "code",
   "execution_count": 3,
   "metadata": {},
   "outputs": [
    {
     "name": "stdout",
     "output_type": "stream",
     "text": [
      "   2|  \u001b[33m\"\"\"\u001b[39;49;00m\n",
      "   3|  \u001b[33mMulti-line\u001b[39;49;00m\n",
      "   4|  \u001b[33m\u001b[39;49;00m\n",
      "   5|  \u001b[33mComment\u001b[39;49;00m\n",
      "   6|  \u001b[33m\u001b[39;49;00m\n",
      "   7|  \u001b[33mno syntax highlighting\u001b[39;49;00m\n",
      "   8|  \u001b[33m\"\"\"\u001b[39;49;00m\n",
      "   9|  \n",
      "  10|  \u001b[37m# Single line comment!\u001b[39;49;00m\n",
      "  11|  \n"
     ]
    },
    {
     "data": {
      "text/plain": []
     },
     "execution_count": 3,
     "metadata": {},
     "output_type": "execute_result"
    }
   ],
   "source": [
    "%%transpile\n",
    "###\n",
    "Multi-line\n",
    "\n",
    "Comment\n",
    "\n",
    "no syntax highlighting\n",
    "###\n",
    "\n",
    "# Single line comment!"
   ]
  },
  {
   "cell_type": "markdown",
   "metadata": {},
   "source": [
    "### Drop Down to Python\n",
    "\n",
    "We can code in regular full Python by using the `# py:` comment\n",
    "and switch back with `# vanilla`:\n",
    "\n",
    "#### Motivation\n",
    "\n",
    "- Use complex code that is outside the scope of the learning material in Python, but keep on topic by using Vanilla Python.\n",
    "- For example, print that use `''.join` when teaching about input and output."
   ]
  },
  {
   "cell_type": "code",
   "execution_count": 4,
   "metadata": {},
   "outputs": [
    {
     "name": "stdout",
     "output_type": "stream",
     "text": [
      "   3|  \u001b[36mprint\u001b[39;49;00m(\u001b[33m\"\u001b[39;49;00m\u001b[33mThis is a program\u001b[39;49;00m\u001b[33m\"\u001b[39;49;00m)\n",
      "   4|  \n",
      "   5|  \u001b[37m# py:\u001b[39;49;00m\n",
      "   6|  \u001b[36mprint\u001b[39;49;00m(\u001b[33m\"\u001b[39;49;00m\u001b[33m, \u001b[39;49;00m\u001b[33m\"\u001b[39;49;00m.join([\u001b[33m'\u001b[39;49;00m\u001b[33mHello\u001b[39;49;00m\u001b[33m'\u001b[39;49;00m, \u001b[33m'\u001b[39;49;00m\u001b[33mWorld\u001b[39;49;00m\u001b[33m'\u001b[39;49;00m, \u001b[33m'\u001b[39;49;00m\u001b[33mFancy\u001b[39;49;00m\u001b[33m'\u001b[39;49;00m]))\n",
      "   7|  \n",
      "   8|  \u001b[37m# vanilla:\u001b[39;49;00m\n",
      "   9|  \u001b[36mprint\u001b[39;49;00m(\u001b[33m\"\u001b[39;49;00m\u001b[33mBack to Vanilla Python / Pseudocode!\u001b[39;49;00m\u001b[33m\"\u001b[39;49;00m)\n",
      "  10|  \n",
      "  11|  \u001b[37m# unicode and emojis fully supported, same as Python\u001b[39;49;00m\n",
      "  12|  \u001b[36mprint\u001b[39;49;00m(\u001b[33m\"\u001b[39;49;00m\u001b[33mThe official emoji for Vanilla Python is \u001b[39;49;00m\u001b[33m\"\u001b[39;49;00m, end=\u001b[33m'\u001b[39;49;00m\u001b[33m'\u001b[39;49;00m)\n",
      "  13|  \u001b[36mprint\u001b[39;49;00m(\u001b[33m\"\u001b[39;49;00m\u001b[33m🍦\u001b[39;49;00m\u001b[33m\"\u001b[39;49;00m)\n",
      "  14|  \n"
     ]
    },
    {
     "data": {
      "text/plain": [
       "This is a program\n",
       "Hello, World, Fancy\n",
       "Back to Vanilla Python / Pseudocode!\n",
       "The official emoji for Vanilla Python is 🍦"
      ]
     },
     "execution_count": 4,
     "metadata": {},
     "output_type": "execute_result"
    }
   ],
   "source": [
    "%%transpile\n",
    "\n",
    "output \"This is a program\"\n",
    "\n",
    "# py:\n",
    "print(\", \".join(['Hello', 'World', 'Fancy']))\n",
    "\n",
    "# vanilla:\n",
    "output \"Back to Vanilla Python / Pseudocode!\"\n",
    "\n",
    "# unicode and emojis fully supported, same as Python\n",
    "out \"The official emoji for Vanilla Python is \"\n",
    "output \"🍦\""
   ]
  },
  {
   "cell_type": "markdown",
   "metadata": {},
   "source": [
    "### Output & Strings\n",
    "\n",
    "Strings with double quotes `\"` are preferred; single quotes `'` also legal not highlighted\n",
    "\n",
    "#### Notes\n",
    "\n",
    "- `out` with no newline is not part of IB Pseudocode; provided for convenience.\n",
    "- IB Pseudocode specifies that strings be double quoted\n",
    "\n",
    "#### Motivation\n",
    "\n",
    "- Teaching how to escape strings is best when keeping with one option\n",
    "- For example: `\"\\\"\"`"
   ]
  },
  {
   "cell_type": "code",
   "execution_count": 5,
   "metadata": {},
   "outputs": [
    {
     "name": "stdout",
     "output_type": "stream",
     "text": [
      "   3|  \u001b[37m# Strings are made with double quotes:\u001b[39;49;00m\n",
      "   4|  \u001b[33m\"\u001b[39;49;00m\u001b[33mThis is a string with double quotes\u001b[39;49;00m\u001b[33m\"\u001b[39;49;00m\n",
      "   5|  \n",
      "   6|  \u001b[37m# Strings with single quotes is legal but does not get highlighted\u001b[39;49;00m\n",
      "   7|  \u001b[33m'\u001b[39;49;00m\u001b[33mThis is a string with single quotes\u001b[39;49;00m\u001b[33m'\u001b[39;49;00m\n",
      "   8|  \n",
      "   9|  \u001b[37m# outputs with \u001b[39;49;00m\n",
      "  10|  \u001b[36mprint\u001b[39;49;00m(\u001b[33m\"\u001b[39;49;00m\u001b[33mHello, World.\u001b[39;49;00m\u001b[33m\"\u001b[39;49;00m)\n",
      "  11|  \n",
      "  12|  \u001b[37m# outputs with NO \u001b[39;49;00m\n",
      "  13|  \u001b[37m# escape characters same as Python\u001b[39;49;00m\n",
      "  14|  \u001b[36mprint\u001b[39;49;00m(\u001b[33m\"\u001b[39;49;00m\u001b[33m    Hello,\u001b[39;49;00m\u001b[33m\"\u001b[39;49;00m, end=\u001b[33m'\u001b[39;49;00m\u001b[33m'\u001b[39;49;00m)\n",
      "  15|  \u001b[36mprint\u001b[39;49;00m(\u001b[33m\"\u001b[39;49;00m\u001b[33m \u001b[39;49;00m\u001b[33m\"\u001b[39;49;00m , end=\u001b[33m'\u001b[39;49;00m\u001b[33m'\u001b[39;49;00m)\n",
      "  16|  \u001b[36mprint\u001b[39;49;00m(\u001b[33m\"\u001b[39;49;00m\u001b[33mWorld.\u001b[39;49;00m\u001b[33m\\n\u001b[39;49;00m\u001b[33m\"\u001b[39;49;00m, end=\u001b[33m'\u001b[39;49;00m\u001b[33m'\u001b[39;49;00m)\n",
      "  17|  \n",
      "  18|  \u001b[37m# print(with commas concatenates)\u001b[39;49;00m\n",
      "  19|  \u001b[36mprint\u001b[39;49;00m(\u001b[33m\"\u001b[39;49;00m\u001b[33mHello,\u001b[39;49;00m\u001b[33m\"\u001b[39;49;00m, \u001b[33m\"\u001b[39;49;00m\u001b[33mWorld\u001b[39;49;00m\u001b[33m\"\u001b[39;49;00m)\n",
      "  20|  \n"
     ]
    },
    {
     "data": {
      "text/plain": [
       "Hello, World.\n",
       "    Hello, World.\n",
       "Hello, World"
      ]
     },
     "execution_count": 5,
     "metadata": {},
     "output_type": "execute_result"
    }
   ],
   "source": [
    "%%transpile\n",
    "\n",
    "# Strings are made with double quotes:\n",
    "\"This is a string with double quotes\"\n",
    "\n",
    "# Strings with single quotes is legal but does not get highlighted\n",
    "'This is a string with single quotes'\n",
    "\n",
    "# outputs with end of line character:\n",
    "output \"Hello, World.\"\n",
    "\n",
    "# outputs with NO end of line character\n",
    "# escape characters same as Python\n",
    "out \"\\tHello,\"\n",
    "out \" \" \n",
    "out \"World.\\n\"\n",
    "\n",
    "# output with commas concatenates\n",
    "output \"Hello,\", \"World\""
   ]
  },
  {
   "cell_type": "markdown",
   "metadata": {},
   "source": [
    "### Variables & Assignment\n",
    "\n",
    "Variables in Vanilla Python are preferred to be in all-caps. Assignment is done with single `=`.\n",
    "\n",
    "#### Motivation\n",
    "\n",
    "- Variables are the glue for reasoning about code; advantage with assisting with the tracking of values is greater than disadvantage to typing annoyances\n",
    "- When student is ready, small-caps also legal (but not highlighted)"
   ]
  },
  {
   "cell_type": "code",
   "execution_count": 6,
   "metadata": {
    "scrolled": true
   },
   "outputs": [
    {
     "name": "stdout",
     "output_type": "stream",
     "text": [
      "  3|  VANILLA_PYTHON = \u001b[33m\"\u001b[39;49;00m\u001b[33mThis is a variable with a string value!\u001b[39;49;00m\u001b[33m\"\u001b[39;49;00m\n",
      "  4|  EMPTY_STRING = \u001b[33m\"\u001b[39;49;00m\u001b[33m\"\u001b[39;49;00m\n",
      "  5|  \n",
      "  6|  small_caps_variables_okay = \u001b[33m\"\u001b[39;49;00m\u001b[33mThis is also a variable with a string value!\u001b[39;49;00m\u001b[33m\"\u001b[39;49;00m\n",
      "  7|  MixedCaps = \u001b[33m\"\u001b[39;49;00m\u001b[33mThis is the same thing as above, but with a different value\u001b[39;49;00m\u001b[33m\"\u001b[39;49;00m\n",
      "  8|  \n"
     ]
    },
    {
     "data": {
      "text/plain": []
     },
     "execution_count": 6,
     "metadata": {},
     "output_type": "execute_result"
    }
   ],
   "source": [
    "%%transpile\n",
    "\n",
    "VANILLA_PYTHON = \"This is a variable with a string value!\"\n",
    "EMPTY_STRING = \"\"\n",
    "\n",
    "small_caps_variables_okay = \"This is also a variable with a string value!\"\n",
    "MixedCaps = \"This is the same thing as above, but with a different value\""
   ]
  },
  {
   "cell_type": "markdown",
   "metadata": {},
   "source": [
    "### Booleans and Numbers\n",
    "\n",
    "Boolean is `true` and `false`, numbers are written with digits with optional `.`. A number with a decimal is a float. \n",
    "\n",
    "#### Notes\n",
    "\n",
    "- Vanilla Python does not override any of the float / integer distictions in Python\n",
    "- They resolve to `True` and `False`\n",
    "\n",
    "#### Motivation\n",
    "\n",
    "- Small caps because TitleCase is used for FunctionNames"
   ]
  },
  {
   "cell_type": "code",
   "execution_count": 7,
   "metadata": {},
   "outputs": [
    {
     "data": {
      "text/plain": [
       "True"
      ]
     },
     "execution_count": 7,
     "metadata": {},
     "output_type": "execute_result"
    }
   ],
   "source": [
    "CONTINUE = true\n",
    "NOT_OKAY = false\n",
    "output CONTINUE"
   ]
  },
  {
   "cell_type": "code",
   "execution_count": 8,
   "metadata": {},
   "outputs": [
    {
     "data": {
      "text/plain": [
       "The answer is 42\n",
       "The answer is, more specifically, is 42.0"
      ]
     },
     "execution_count": 8,
     "metadata": {},
     "output_type": "execute_result"
    }
   ],
   "source": [
    "output \"The answer is\", 42\n",
    "output \"The answer is, more specifically, is\", 42.0"
   ]
  },
  {
   "cell_type": "markdown",
   "metadata": {},
   "source": [
    "### Operators\n",
    "\n",
    "The mathematical operators act exactly the same as Python, with two exceptions: `div` and `mod`. In the first case, `div` is the floor division, same as `//` in Python 3 or \"integer division\". You get only the integer portion of the result and not the decimal. The `mod` is the same as `%` in Python, which is the remainder of the division."
   ]
  },
  {
   "cell_type": "code",
   "execution_count": 9,
   "metadata": {},
   "outputs": [
    {
     "data": {
      "text/plain": [
       "π is roughly 3.1765178689933027\n",
       "10 is even\n",
       "Each cup is 3 inches wide, and the shelf is 10 inches wide which means this shelf can only hold 3 cups."
      ]
     },
     "execution_count": 9,
     "metadata": {},
     "output_type": "execute_result"
    }
   ],
   "source": [
    "output \"π is roughly\", 4/1 - 4/3 + 4/5 - 4/7 + 4/11 - 4/13 + 4/15 - 4/17 + 4/19 - 4/21 + 4/23\n",
    "\n",
    "NUM = 10\n",
    "if NUM mod 2 = 0 then\n",
    "    output NUM, \"is even\"\n",
    "end if\n",
    "CUP_WIDTH = 3\n",
    "SHELF_WIDTH = 10\n",
    "\n",
    "out \"Each cup is 3 inches wide, and the shelf is 10 inches wide \"\n",
    "output \"which means this shelf can only hold\", SHELF_WIDTH div 3, \"cups.\"\n",
    "\n"
   ]
  },
  {
   "cell_type": "markdown",
   "metadata": {},
   "source": [
    "### Control & Functions\n",
    "\n",
    "Controls, loops, and function definitions are highlighted in green and always end the block with an `end X`. Indentation matters and is identical to Python. \n",
    "\n",
    "#### Notes:\n",
    "\n",
    "- The second indice in a `for` loop is inclusive, whereas in Python it is exclusive\n",
    "\n",
    "#### Motivation\n",
    "\n",
    "- Indentation improves readability\n",
    "- Function definitions and Control statements "
   ]
  },
  {
   "cell_type": "markdown",
   "metadata": {},
   "source": [
    "##### If / else statements\n",
    "\n",
    "If statements require a `then` keyword as well. The `then` keyword is enforced in order for students to become accustomed to a programming workflow in which they have to constantly run in order to catch their easy-to-make errors."
   ]
  },
  {
   "cell_type": "code",
   "execution_count": 10,
   "metadata": {},
   "outputs": [
    {
     "name": "stdout",
     "output_type": "stream",
     "text": [
      "  3|  \u001b[34mif\u001b[39;49;00m \u001b[33m\"\u001b[39;49;00m\u001b[33mright\u001b[39;49;00m\u001b[33m\"\u001b[39;49;00m == \u001b[33m\"\u001b[39;49;00m\u001b[33mwrong\u001b[39;49;00m\u001b[33m\"\u001b[39;49;00m:\n",
      "  4|      \u001b[36mprint\u001b[39;49;00m(\u001b[33m\"\u001b[39;49;00m\u001b[33mwrong!\u001b[39;49;00m\u001b[33m\"\u001b[39;49;00m)\n",
      "  5|  \u001b[34melif\u001b[39;49;00m \u001b[33m\"\u001b[39;49;00m\u001b[33mright\u001b[39;49;00m\u001b[33m\"\u001b[39;49;00m == \u001b[33m\"\u001b[39;49;00m\u001b[33mright\u001b[39;49;00m\u001b[33m\"\u001b[39;49;00m:\n",
      "  6|      \u001b[36mprint\u001b[39;49;00m(\u001b[33m\"\u001b[39;49;00m\u001b[33mright\u001b[39;49;00m\u001b[33m\"\u001b[39;49;00m)\n",
      "  7|  \n"
     ]
    },
    {
     "data": {
      "text/plain": [
       "right"
      ]
     },
     "execution_count": 10,
     "metadata": {},
     "output_type": "execute_result"
    }
   ],
   "source": [
    "%%transpile\n",
    "\n",
    "if \"right\" = \"wrong\" then\n",
    "    output \"wrong!\"\n",
    "else if \"right\" = \"right\" then\n",
    "    output \"right\"\n",
    "end if"
   ]
  },
  {
   "cell_type": "markdown",
   "metadata": {},
   "source": [
    "If the `then` keyword is not found, it helpfully reminds you:"
   ]
  },
  {
   "cell_type": "code",
   "execution_count": 11,
   "metadata": {},
   "outputs": [
    {
     "name": "stderr",
     "output_type": "stream",
     "text": [
      "\u001b[0;31mProgramming error on line 2:\n",
      "\tif \"right\" = \"wrong\" (pseudocode)\n",
      "\tif \"right\" == \"wrong\" (python)\n",
      "SyntaxError: 'then' expected to end if statement, but not found\n",
      "\u001b[0m"
     ]
    }
   ],
   "source": [
    "if \"right\" = \"wrong\"\n",
    "    output \"This line will never be reached\"\n",
    "end if"
   ]
  },
  {
   "cell_type": "markdown",
   "metadata": {},
   "source": [
    "##### \"For\" loop"
   ]
  },
  {
   "cell_type": "code",
   "execution_count": 12,
   "metadata": {},
   "outputs": [
    {
     "name": "stdout",
     "output_type": "stream",
     "text": [
      "   3|  \u001b[34mfor\u001b[39;49;00m NUM \u001b[35min\u001b[39;49;00m \u001b[36mrange\u001b[39;49;00m(\u001b[34m1\u001b[39;49;00m, \u001b[34m10\u001b[39;49;00m+\u001b[34m1\u001b[39;49;00m):\n",
      "   4|      \u001b[36mprint\u001b[39;49;00m(NUM, end=\u001b[33m'\u001b[39;49;00m\u001b[33m'\u001b[39;49;00m)\n",
      "   5|      \u001b[36mprint\u001b[39;49;00m(\u001b[33m\"\u001b[39;49;00m\u001b[33m \u001b[39;49;00m\u001b[33m\"\u001b[39;49;00m, end=\u001b[33m'\u001b[39;49;00m\u001b[33m'\u001b[39;49;00m)\n",
      "   6|  \n",
      "   7|  \u001b[36mprint\u001b[39;49;00m(\u001b[33m\"\u001b[39;49;00m\u001b[33m\"\u001b[39;49;00m)\n",
      "   8|  \n",
      "   9|  \u001b[37m# py:\u001b[39;49;00m\n",
      "  10|  \u001b[34mfor\u001b[39;49;00m num \u001b[35min\u001b[39;49;00m \u001b[36mrange\u001b[39;49;00m(\u001b[34m1\u001b[39;49;00m, \u001b[34m11\u001b[39;49;00m):\n",
      "  11|      \u001b[36mprint\u001b[39;49;00m(num, end=\u001b[33m\"\u001b[39;49;00m\u001b[33m \u001b[39;49;00m\u001b[33m\"\u001b[39;49;00m)\n",
      "  12|  \n"
     ]
    },
    {
     "data": {
      "text/plain": [
       "1 2 3 4 5 6 7 8 9 10 \n",
       "1 2 3 4 5 6 7 8 9 10"
      ]
     },
     "execution_count": 12,
     "metadata": {},
     "output_type": "execute_result"
    }
   ],
   "source": [
    "%%transpile \n",
    "\n",
    "loop NUM from 1 to 10\n",
    "    out NUM\n",
    "    out \" \"\n",
    "end loop\n",
    "output \"\"\n",
    "\n",
    "# py:\n",
    "for num in range(1, 11):\n",
    "    print(num, end=\" \")"
   ]
  },
  {
   "cell_type": "markdown",
   "metadata": {},
   "source": [
    "##### \"While\" loop\n",
    "\n",
    "All loops start with `loop` and end with `end loop`. The two variants are `loop while` which is logically the same as `while` in Python and `loop until` which is the negation."
   ]
  },
  {
   "cell_type": "code",
   "execution_count": 13,
   "metadata": {},
   "outputs": [
    {
     "name": "stdout",
     "output_type": "stream",
     "text": [
      "   3|  \u001b[37m# loop while\u001b[39;49;00m\n",
      "   4|  CONTINUE = \u001b[34mTrue\u001b[39;49;00m\n",
      "   5|  \u001b[34mwhile\u001b[39;49;00m CONTINUE == \u001b[34mTrue\u001b[39;49;00m:\n",
      "   6|      CONTINUE = \u001b[34mFalse\u001b[39;49;00m\n",
      "   7|      \u001b[36mprint\u001b[39;49;00m(\u001b[33m\"\u001b[39;49;00m\u001b[33mThis also only outputs once\u001b[39;49;00m\u001b[33m\"\u001b[39;49;00m)\n",
      "   8|  \n",
      "   9|  \n",
      "  10|  \u001b[37m# loop until\u001b[39;49;00m\n",
      "  11|  CONTINUE = \u001b[34mTrue\u001b[39;49;00m\n",
      "  12|  \u001b[34mwhile\u001b[39;49;00m \u001b[35mnot\u001b[39;49;00m (CONTINUE == \u001b[34mFalse\u001b[39;49;00m):\n",
      "  13|      CONTINUE = \u001b[34mFalse\u001b[39;49;00m\n",
      "  14|      \u001b[36mprint\u001b[39;49;00m(\u001b[33m\"\u001b[39;49;00m\u001b[33mThis outputs only once\u001b[39;49;00m\u001b[33m\"\u001b[39;49;00m)\n",
      "  15|  \n"
     ]
    },
    {
     "data": {
      "text/plain": [
       "This also only outputs once\n",
       "This outputs only once"
      ]
     },
     "execution_count": 13,
     "metadata": {},
     "output_type": "execute_result"
    }
   ],
   "source": [
    "%%transpile\n",
    "\n",
    "# loop while\n",
    "CONTINUE = true\n",
    "loop while CONTINUE = true\n",
    "    CONTINUE = false\n",
    "    output \"This also only outputs once\"\n",
    "end loop\n",
    "\n",
    "# loop until\n",
    "CONTINUE = true\n",
    "loop until CONTINUE = false\n",
    "    CONTINUE = false\n",
    "    output \"This outputs only once\"\n",
    "end loop\n",
    "\n"
   ]
  },
  {
   "cell_type": "markdown",
   "metadata": {},
   "source": [
    "##### Function Declarations and Function calls\n",
    "\n",
    "Functions start with `sub` (short for \"sub procedure) and end with `end sub`. Function declarations follow Python conventions. It is recommended that function names are TitleCase, but this is not enforced."
   ]
  },
  {
   "cell_type": "code",
   "execution_count": 14,
   "metadata": {},
   "outputs": [
    {
     "name": "stdout",
     "output_type": "stream",
     "text": [
      "   3|  \u001b[37m# Function definition\u001b[39;49;00m\n",
      "   4|  \u001b[34mdef\u001b[39;49;00m \u001b[32mFunction\u001b[39;49;00m(PARAM):\n",
      "   5|      \u001b[36mprint\u001b[39;49;00m(\u001b[33m\"\u001b[39;49;00m\u001b[33mHello, \u001b[39;49;00m\u001b[33m\"\u001b[39;49;00m, end=\u001b[33m'\u001b[39;49;00m\u001b[33m'\u001b[39;49;00m)\n",
      "   6|      \u001b[36mprint\u001b[39;49;00m(PARAM)\n",
      "   7|  \n",
      "   8|  Function(\u001b[33m\"\u001b[39;49;00m\u001b[33mWorld\u001b[39;49;00m\u001b[33m\"\u001b[39;49;00m)\n",
      "   9|  \n",
      "  10|  \u001b[37m# function definition with keyword params\u001b[39;49;00m\n",
      "  11|  \u001b[34mdef\u001b[39;49;00m \u001b[32mFunction\u001b[39;49;00m(NOUN=\u001b[33m\"\u001b[39;49;00m\u001b[33mWorld\u001b[39;49;00m\u001b[33m\"\u001b[39;49;00m):\n",
      "  12|      \u001b[36mprint\u001b[39;49;00m(\u001b[33m\"\u001b[39;49;00m\u001b[33mHello, \u001b[39;49;00m\u001b[33m\"\u001b[39;49;00m, end=\u001b[33m'\u001b[39;49;00m\u001b[33m'\u001b[39;49;00m)\n",
      "  13|      \u001b[36mprint\u001b[39;49;00m(NOUN)\n",
      "  14|  \n",
      "  15|  Function(\u001b[33m\"\u001b[39;49;00m\u001b[33mStudent\u001b[39;49;00m\u001b[33m\"\u001b[39;49;00m)\n",
      "  16|  \n"
     ]
    },
    {
     "data": {
      "text/plain": [
       "Hello, World\n",
       "Hello, Student"
      ]
     },
     "execution_count": 14,
     "metadata": {},
     "output_type": "execute_result"
    }
   ],
   "source": [
    "%%transpile\n",
    "\n",
    "# Function definition\n",
    "sub Function(PARAM)\n",
    "    out \"Hello, \"\n",
    "    output PARAM\n",
    "end sub\n",
    "Function(\"World\")\n",
    "\n",
    "# function definition with keyword params\n",
    "sub Function(NOUN=\"World\")\n",
    "    out \"Hello, \"\n",
    "    output NOUN\n",
    "end sub\n",
    "Function(\"Student\")"
   ]
  },
  {
   "cell_type": "markdown",
   "metadata": {},
   "source": [
    "## Data Structures\n",
    "\n",
    "There are several objects that are provided automatically (without needing an import). They provide a way for teachers to explain to students various concepts in programming.\n",
    "\n",
    "There are also `Array`, `Collection`, `Stack`, and `Queue`. They are instantiated in two ways, the first way is shown here, and produce \"blank\" objects:"
   ]
  },
  {
   "cell_type": "code",
   "execution_count": 15,
   "metadata": {},
   "outputs": [
    {
     "name": "stdout",
     "output_type": "stream",
     "text": [
      "   3|  ARRAY = Array()\n",
      "   4|  COLLECTION = Collection()\n",
      "   5|  STACK = Stack()\n",
      "   6|  QUEUE = Queue()\n",
      "   7|  \n",
      "   8|  \u001b[36mprint\u001b[39;49;00m(ARRAY)  \u001b[37m# empty: Array.from_list([])\u001b[39;49;00m\n",
      "   9|  ARRAY[\u001b[34m0\u001b[39;49;00m] = \u001b[33m\"\u001b[39;49;00m\u001b[33mCopy\u001b[39;49;00m\u001b[33m\"\u001b[39;49;00m\n",
      "  10|  \u001b[36mprint\u001b[39;49;00m(ARRAY)\n",
      "  11|  \n"
     ]
    },
    {
     "data": {
      "text/plain": [
       "Array.from_list([])\n",
       "Array.from_list(['Copy'])"
      ]
     },
     "execution_count": 15,
     "metadata": {},
     "output_type": "execute_result"
    }
   ],
   "source": [
    "%%transpile\n",
    "\n",
    "ARRAY = Array()\n",
    "COLLECTION = Collection()\n",
    "STACK = Stack()\n",
    "QUEUE = Queue()\n",
    "\n",
    "output ARRAY  # empty: Array.from_list([])\n",
    "ARRAY[0] = \"Copy\"\n",
    "output ARRAY"
   ]
  },
  {
   "cell_type": "markdown",
   "metadata": {},
   "source": [
    "When output, notice that they are written with `from_list` method, and a list of the elements inside the object. This is done so that students and teachers can write code that populates a data structure, output it, and can then copy and paste that output into the next cell, to continue processing. For example:"
   ]
  },
  {
   "cell_type": "code",
   "execution_count": 16,
   "metadata": {},
   "outputs": [
    {
     "data": {
      "text/plain": [
       "Copy"
      ]
     },
     "execution_count": 16,
     "metadata": {},
     "output_type": "execute_result"
    }
   ],
   "source": [
    "ARRAY = Array.from_list(['Copy'])\n",
    "output ARRAY[0]"
   ]
  },
  {
   "cell_type": "markdown",
   "metadata": {},
   "source": [
    "All data structures can be populated with the following `from_*` methods:\n",
    "\n",
    "#### from_list\n",
    "`from_list(arr: list)` takes a Python list as an argument\n",
    "\n",
    "#### from_file\n",
    "`from_file(name: str)` takes name of the file (path) as a string.\n",
    "\n",
    "\n",
    "#### from_x_integers\n",
    "\n",
    "`from_x_integers(how_many, min = 1, max = 1000)` takes on named parameter `how_many` and `min` and `max` keyword arguments. All parameters are `int`s\n",
    "\n",
    "#### from_x_characters\n",
    "\n",
    "`from_x_characters(how_many, min='A', max='Z')` takes `how_many` (int) and populates with random characters from `min` (`str`) to `max` (`str`)"
   ]
  },
  {
   "cell_type": "markdown",
   "metadata": {},
   "source": [
    "### Arrays\n",
    "\n",
    "Arrays, created with `ARRAY = Array()` are objects is a sequence of data points, which can be of any time, and can be assigned a value at any index. There are no methods on this object, and can only be assigned a value at an index, or a value retrieved at an index. Notation is with brackets:"
   ]
  },
  {
   "cell_type": "code",
   "execution_count": 17,
   "metadata": {},
   "outputs": [
    {
     "data": {
      "text/plain": [
       "Array.from_list(['Hello', 'World', None, None, None, None, None, None, None, None, 'Ten'])"
      ]
     },
     "execution_count": 17,
     "metadata": {},
     "output_type": "execute_result"
    }
   ],
   "source": [
    "ARRAY = Array()\n",
    "ARRAY[0] = \"Hello\"\n",
    "ARRAY[1] = \"World\"\n",
    "ARRAY[10] = \"Ten\"\n",
    "\n",
    "output ARRAY"
   ]
  },
  {
   "cell_type": "markdown",
   "metadata": {},
   "source": [
    "\n",
    "All of these structures can also be populated quickly and easily.\n",
    "\n",
    "When giving students problems to solve, it is a common need to be able to populate a data point with given, example information, so that the student produces an algorthim that processes the given data. This can be done with the `from_*` methods on the classes, in the following manner:"
   ]
  },
  {
   "cell_type": "code",
   "execution_count": 18,
   "metadata": {
    "scrolled": true
   },
   "outputs": [
    {
     "name": "stdout",
     "output_type": "stream",
     "text": [
      "  2|  GIVENNAMES = Array.from_list([\u001b[33m\"\u001b[39;49;00m\u001b[33mJosh\u001b[39;49;00m\u001b[33m\"\u001b[39;49;00m, \u001b[33m\"\u001b[39;49;00m\u001b[33mPeter\u001b[39;49;00m\u001b[33m\"\u001b[39;49;00m, \u001b[33m\"\u001b[39;49;00m\u001b[33mYuki\u001b[39;49;00m\u001b[33m\"\u001b[39;49;00m, \u001b[33m\"\u001b[39;49;00m\u001b[33mSuyeon\u001b[39;49;00m\u001b[33m\"\u001b[39;49;00m])\n",
      "  3|  \n"
     ]
    },
    {
     "data": {
      "text/plain": []
     },
     "execution_count": 18,
     "metadata": {},
     "output_type": "execute_result"
    }
   ],
   "source": [
    "%%transpile\n",
    "GIVENNAMES = Array.from_list([\"Josh\", \"Peter\", \"Yuki\", \"Suyeon\"])"
   ]
  }
 ],
 "metadata": {
  "kernelspec": {
   "display_name": "Vanilla Python",
   "language": "vanilla_python",
   "name": "vanilla_python"
  },
  "language_info": {
   "file_extension": ".vanilla",
   "mimetype": "text/plain",
   "name": "vanilla_python"
  }
 },
 "nbformat": 4,
 "nbformat_minor": 2
}
